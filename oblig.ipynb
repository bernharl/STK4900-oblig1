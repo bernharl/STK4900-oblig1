{
 "cells": [
  {
   "cell_type": "markdown",
   "metadata": {},
   "source": [
    "# Oblig 1 STK4900\n",
    "I chose to solve the mandatory assignment in a Jupyter Notebook. Using the tool \"rpy2\" I can use Python and R in the same code. This enables me to solve most tasks in Python as I am more familiar with Python than R while still being able to resort to R when needed."
   ]
  },
  {
   "cell_type": "code",
   "execution_count": 2,
   "metadata": {},
   "outputs": [
    {
     "name": "stderr",
     "output_type": "stream",
     "text": [
      "/Users/bernhard/.local/share/virtualenvs/STK4900-oblig1-uunOJvex/lib/python3.7/site-packages/rpy2/robjects/pandas2ri.py:14: FutureWarning: pandas.core.index is deprecated and will be removed in a future version.  The public classes are available in the top-level namespace.\n",
      "  from pandas.core.index import Index as PandasIndex\n"
     ]
    }
   ],
   "source": [
    "# Loading in R:\n",
    "%load_ext rpy2.ipython"
   ]
  },
  {
   "cell_type": "code",
   "execution_count": 44,
   "metadata": {},
   "outputs": [
    {
     "data": {
      "application/javascript": [
       "\n",
       "            setTimeout(function() {\n",
       "                var nbb_cell_id = 44;\n",
       "                var nbb_unformatted_code = \"# Automatically making my code look nice\\n%load_ext nb_black\";\n",
       "                var nbb_formatted_code = \"# Automatically making my code look nice\\n%load_ext nb_black\";\n",
       "                var nbb_cells = Jupyter.notebook.get_cells();\n",
       "                for (var i = 0; i < nbb_cells.length; ++i) {\n",
       "                    if (nbb_cells[i].input_prompt_number == nbb_cell_id) {\n",
       "                        if (nbb_cells[i].get_text() == nbb_unformatted_code) {\n",
       "                             nbb_cells[i].set_text(nbb_formatted_code);\n",
       "                        }\n",
       "                        break;\n",
       "                    }\n",
       "                }\n",
       "            }, 500);\n",
       "            "
      ],
      "text/plain": [
       "<IPython.core.display.Javascript object>"
      ]
     },
     "metadata": {},
     "output_type": "display_data"
    }
   ],
   "source": [
    "# Automatically making my code look nice\n",
    "%load_ext nb_black"
   ]
  },
  {
   "cell_type": "code",
   "execution_count": 52,
   "metadata": {},
   "outputs": [
    {
     "data": {
      "application/javascript": [
       "\n",
       "            setTimeout(function() {\n",
       "                var nbb_cell_id = 52;\n",
       "                var nbb_unformatted_code = \"# Importing common Python packages\\nimport numpy as np\\nimport pandas as pd\\nimport sklearn as skl\\nfrom sklearn import linear_model as skllm\\nimport matplotlib.pyplot as plt\";\n",
       "                var nbb_formatted_code = \"# Importing common Python packages\\nimport numpy as np\\nimport pandas as pd\\nimport sklearn as skl\\nfrom sklearn import linear_model as skllm\\nimport matplotlib.pyplot as plt\";\n",
       "                var nbb_cells = Jupyter.notebook.get_cells();\n",
       "                for (var i = 0; i < nbb_cells.length; ++i) {\n",
       "                    if (nbb_cells[i].input_prompt_number == nbb_cell_id) {\n",
       "                        if (nbb_cells[i].get_text() == nbb_unformatted_code) {\n",
       "                             nbb_cells[i].set_text(nbb_formatted_code);\n",
       "                        }\n",
       "                        break;\n",
       "                    }\n",
       "                }\n",
       "            }, 500);\n",
       "            "
      ],
      "text/plain": [
       "<IPython.core.display.Javascript object>"
      ]
     },
     "metadata": {},
     "output_type": "display_data"
    }
   ],
   "source": [
    "# Importing common Python packages\n",
    "import numpy as np\n",
    "import pandas as pd\n",
    "import sklearn as skl\n",
    "from sklearn import linear_model as skllm\n",
    "import matplotlib.pyplot as plt"
   ]
  },
  {
   "cell_type": "markdown",
   "metadata": {},
   "source": [
    "## Task 1 a)"
   ]
  },
  {
   "cell_type": "code",
   "execution_count": 45,
   "metadata": {},
   "outputs": [
    {
     "data": {
      "text/html": [
       "<div>\n",
       "<style scoped>\n",
       "    .dataframe tbody tr th:only-of-type {\n",
       "        vertical-align: middle;\n",
       "    }\n",
       "\n",
       "    .dataframe tbody tr th {\n",
       "        vertical-align: top;\n",
       "    }\n",
       "\n",
       "    .dataframe thead th {\n",
       "        text-align: right;\n",
       "    }\n",
       "</style>\n",
       "<table border=\"1\" class=\"dataframe\">\n",
       "  <thead>\n",
       "    <tr style=\"text-align: right;\">\n",
       "      <th></th>\n",
       "      <th>log.no2</th>\n",
       "      <th>log.cars</th>\n",
       "      <th>temp</th>\n",
       "      <th>wind.speed</th>\n",
       "      <th>hour.of.day</th>\n",
       "    </tr>\n",
       "  </thead>\n",
       "  <tbody>\n",
       "    <tr>\n",
       "      <th>0</th>\n",
       "      <td>3.71844</td>\n",
       "      <td>7.69120</td>\n",
       "      <td>9.2</td>\n",
       "      <td>4.8</td>\n",
       "      <td>20</td>\n",
       "    </tr>\n",
       "    <tr>\n",
       "      <th>1</th>\n",
       "      <td>3.10009</td>\n",
       "      <td>7.69894</td>\n",
       "      <td>6.4</td>\n",
       "      <td>3.5</td>\n",
       "      <td>14</td>\n",
       "    </tr>\n",
       "    <tr>\n",
       "      <th>2</th>\n",
       "      <td>3.31419</td>\n",
       "      <td>4.81218</td>\n",
       "      <td>-3.7</td>\n",
       "      <td>0.9</td>\n",
       "      <td>4</td>\n",
       "    </tr>\n",
       "    <tr>\n",
       "      <th>3</th>\n",
       "      <td>4.38826</td>\n",
       "      <td>6.95177</td>\n",
       "      <td>-7.2</td>\n",
       "      <td>1.7</td>\n",
       "      <td>23</td>\n",
       "    </tr>\n",
       "    <tr>\n",
       "      <th>4</th>\n",
       "      <td>4.34640</td>\n",
       "      <td>7.51806</td>\n",
       "      <td>-1.3</td>\n",
       "      <td>2.6</td>\n",
       "      <td>11</td>\n",
       "    </tr>\n",
       "    <tr>\n",
       "      <th>...</th>\n",
       "      <td>...</td>\n",
       "      <td>...</td>\n",
       "      <td>...</td>\n",
       "      <td>...</td>\n",
       "      <td>...</td>\n",
       "    </tr>\n",
       "    <tr>\n",
       "      <th>495</th>\n",
       "      <td>4.30946</td>\n",
       "      <td>7.68202</td>\n",
       "      <td>3.5</td>\n",
       "      <td>5.0</td>\n",
       "      <td>11</td>\n",
       "    </tr>\n",
       "    <tr>\n",
       "      <th>496</th>\n",
       "      <td>2.94444</td>\n",
       "      <td>6.52942</td>\n",
       "      <td>9.5</td>\n",
       "      <td>6.5</td>\n",
       "      <td>10</td>\n",
       "    </tr>\n",
       "    <tr>\n",
       "      <th>497</th>\n",
       "      <td>4.17439</td>\n",
       "      <td>7.75791</td>\n",
       "      <td>5.2</td>\n",
       "      <td>4.6</td>\n",
       "      <td>14</td>\n",
       "    </tr>\n",
       "    <tr>\n",
       "      <th>498</th>\n",
       "      <td>2.95491</td>\n",
       "      <td>5.78996</td>\n",
       "      <td>8.4</td>\n",
       "      <td>0.5</td>\n",
       "      <td>7</td>\n",
       "    </tr>\n",
       "    <tr>\n",
       "      <th>499</th>\n",
       "      <td>4.03247</td>\n",
       "      <td>8.16223</td>\n",
       "      <td>4.7</td>\n",
       "      <td>5.9</td>\n",
       "      <td>17</td>\n",
       "    </tr>\n",
       "  </tbody>\n",
       "</table>\n",
       "<p>500 rows × 5 columns</p>\n",
       "</div>"
      ],
      "text/plain": [
       "     log.no2  log.cars  temp  wind.speed  hour.of.day\n",
       "0    3.71844   7.69120   9.2         4.8           20\n",
       "1    3.10009   7.69894   6.4         3.5           14\n",
       "2    3.31419   4.81218  -3.7         0.9            4\n",
       "3    4.38826   6.95177  -7.2         1.7           23\n",
       "4    4.34640   7.51806  -1.3         2.6           11\n",
       "..       ...       ...   ...         ...          ...\n",
       "495  4.30946   7.68202   3.5         5.0           11\n",
       "496  2.94444   6.52942   9.5         6.5           10\n",
       "497  4.17439   7.75791   5.2         4.6           14\n",
       "498  2.95491   5.78996   8.4         0.5            7\n",
       "499  4.03247   8.16223   4.7         5.9           17\n",
       "\n",
       "[500 rows x 5 columns]"
      ]
     },
     "execution_count": 45,
     "metadata": {},
     "output_type": "execute_result"
    },
    {
     "data": {
      "application/javascript": [
       "\n",
       "            setTimeout(function() {\n",
       "                var nbb_cell_id = 45;\n",
       "                var nbb_unformatted_code = \"# Loading in dataframe.\\ndf = pd.read_csv(\\\"no2.txt\\\", delimiter= '\\\\s+')\\ndf\";\n",
       "                var nbb_formatted_code = \"# Loading in dataframe.\\ndf = pd.read_csv(\\\"no2.txt\\\", delimiter=\\\"\\\\s+\\\")\\ndf\";\n",
       "                var nbb_cells = Jupyter.notebook.get_cells();\n",
       "                for (var i = 0; i < nbb_cells.length; ++i) {\n",
       "                    if (nbb_cells[i].input_prompt_number == nbb_cell_id) {\n",
       "                        if (nbb_cells[i].get_text() == nbb_unformatted_code) {\n",
       "                             nbb_cells[i].set_text(nbb_formatted_code);\n",
       "                        }\n",
       "                        break;\n",
       "                    }\n",
       "                }\n",
       "            }, 500);\n",
       "            "
      ],
      "text/plain": [
       "<IPython.core.display.Javascript object>"
      ]
     },
     "metadata": {},
     "output_type": "display_data"
    }
   ],
   "source": [
    "# Loading in dataframe.\n",
    "df = pd.read_csv(\"no2.txt\", delimiter=\"\\s+\")\n",
    "df"
   ]
  },
  {
   "cell_type": "code",
   "execution_count": 46,
   "metadata": {},
   "outputs": [
    {
     "data": {
      "image/png": "[encoded data removed]",
      "text/plain": [
       "<Figure size 720x444.994 with 2 Axes>"
      ]
     },
     "metadata": {
      "needs_background": "light"
     },
     "output_type": "display_data"
    },
    {
     "name": "stdout",
     "output_type": "stream",
     "text": [
      "Cars: 7.0+-1.1\n",
      "NO2: 3.7+-0.7\n"
     ]
    },
    {
     "data": {
      "application/javascript": [
       "\n",
       "            setTimeout(function() {\n",
       "                var nbb_cell_id = 46;\n",
       "                var nbb_unformatted_code = \"mean_cars = np.mean(df[\\\"log.cars\\\"])\\nstddev_cars = np.std(df[\\\"log.cars\\\"])\\nmean_no2 = np.mean(df[\\\"log.no2\\\"])\\nstddev_no2 = np.std(df[\\\"log.no2\\\"])\\nfig, ax = plt.subplots(1, 2, figsize=[10, 10 / 1.618])\\ndf.boxplot(\\\"log.no2\\\", ax=ax[0])\\ndf.boxplot(\\\"log.cars\\\", ax=ax[1])\\nplt.show()\\nprint(f\\\"Cars: {mean_cars:.1f}+-{stddev_cars:.1f}\\\")\\nprint(f\\\"NO2: {mean_no2:.1f}+-{stddev_no2:.1f}\\\")\";\n",
       "                var nbb_formatted_code = \"mean_cars = np.mean(df[\\\"log.cars\\\"])\\nstddev_cars = np.std(df[\\\"log.cars\\\"])\\nmean_no2 = np.mean(df[\\\"log.no2\\\"])\\nstddev_no2 = np.std(df[\\\"log.no2\\\"])\\nfig, ax = plt.subplots(1, 2, figsize=[10, 10 / 1.618])\\ndf.boxplot(\\\"log.no2\\\", ax=ax[0])\\ndf.boxplot(\\\"log.cars\\\", ax=ax[1])\\nplt.show()\\nprint(f\\\"Cars: {mean_cars:.1f}+-{stddev_cars:.1f}\\\")\\nprint(f\\\"NO2: {mean_no2:.1f}+-{stddev_no2:.1f}\\\")\";\n",
       "                var nbb_cells = Jupyter.notebook.get_cells();\n",
       "                for (var i = 0; i < nbb_cells.length; ++i) {\n",
       "                    if (nbb_cells[i].input_prompt_number == nbb_cell_id) {\n",
       "                        if (nbb_cells[i].get_text() == nbb_unformatted_code) {\n",
       "                             nbb_cells[i].set_text(nbb_formatted_code);\n",
       "                        }\n",
       "                        break;\n",
       "                    }\n",
       "                }\n",
       "            }, 500);\n",
       "            "
      ],
      "text/plain": [
       "<IPython.core.display.Javascript object>"
      ]
     },
     "metadata": {},
     "output_type": "display_data"
    }
   ],
   "source": [
    "mean_cars = np.mean(df[\"log.cars\"])\n",
    "stddev_cars = np.std(df[\"log.cars\"])\n",
    "mean_no2 = np.mean(df[\"log.no2\"])\n",
    "stddev_no2 = np.std(df[\"log.no2\"])\n",
    "fig, ax = plt.subplots(1, 2, figsize=[10, 10 / 1.618])\n",
    "df.boxplot(\"log.no2\", ax=ax[0])\n",
    "df.boxplot(\"log.cars\", ax=ax[1])\n",
    "plt.show()\n",
    "print(f\"Cars: {mean_cars:.1f}+-{stddev_cars:.1f}\")\n",
    "print(f\"NO2: {mean_no2:.1f}+-{stddev_no2:.1f}\")"
   ]
  },
  {
   "cell_type": "markdown",
   "metadata": {},
   "source": [
    "There are more outliers in NO2."
   ]
  },
  {
   "cell_type": "code",
   "execution_count": 80,
   "metadata": {},
   "outputs": [
    {
     "data": {
      "image/png": "[encoded data removed]",
      "text/plain": [
       "<Figure size 720x444.994 with 1 Axes>"
      ]
     },
     "metadata": {
      "needs_background": "light"
     },
     "output_type": "display_data"
    },
    {
     "data": {
      "application/javascript": [
       "\n",
       "            setTimeout(function() {\n",
       "                var nbb_cell_id = 80;\n",
       "                var nbb_unformatted_code = \"fig, ax = plt.subplots(1, 1, figsize=[10, 10 / 1.618])\\ndf.plot.scatter(x=\\\"log.cars\\\", y=\\\"log.no2\\\", ax=ax)\\nplt.show()\";\n",
       "                var nbb_formatted_code = \"fig, ax = plt.subplots(1, 1, figsize=[10, 10 / 1.618])\\ndf.plot.scatter(x=\\\"log.cars\\\", y=\\\"log.no2\\\", ax=ax)\\nplt.show()\";\n",
       "                var nbb_cells = Jupyter.notebook.get_cells();\n",
       "                for (var i = 0; i < nbb_cells.length; ++i) {\n",
       "                    if (nbb_cells[i].input_prompt_number == nbb_cell_id) {\n",
       "                        if (nbb_cells[i].get_text() == nbb_unformatted_code) {\n",
       "                             nbb_cells[i].set_text(nbb_formatted_code);\n",
       "                        }\n",
       "                        break;\n",
       "                    }\n",
       "                }\n",
       "            }, 500);\n",
       "            "
      ],
      "text/plain": [
       "<IPython.core.display.Javascript object>"
      ]
     },
     "metadata": {},
     "output_type": "display_data"
    }
   ],
   "source": [
    "fig, ax = plt.subplots(1, 1, figsize=[10, 10 / 1.618])\n",
    "df.plot.scatter(x=\"log.cars\", y=\"log.no2\", ax=ax)\n",
    "plt.show()"
   ]
  },
  {
   "cell_type": "markdown",
   "metadata": {},
   "source": [
    "Seems like more traffic leads to more NO2. "
   ]
  },
  {
   "cell_type": "markdown",
   "metadata": {},
   "source": [
    "## Task 1 b)"
   ]
  },
  {
   "cell_type": "code",
   "execution_count": 93,
   "metadata": {},
   "outputs": [
    {
     "data": {
      "image/png": "[encoded data removed]",
      "text/plain": [
       "<Figure size 720x444.994 with 1 Axes>"
      ]
     },
     "metadata": {
      "needs_background": "light"
     },
     "output_type": "display_data"
    },
    {
     "name": "stdout",
     "output_type": "stream",
     "text": [
      "The linear model is: log.no2 = 0.4*log.cars + 1.2\n",
      "The model has an R^2 score of 0.26\n"
     ]
    },
    {
     "data": {
      "application/javascript": [
       "\n",
       "            setTimeout(function() {\n",
       "                var nbb_cell_id = 93;\n",
       "                var nbb_unformatted_code = \"fig, ax = plt.subplots(1, 1, figsize=(10, 10 / 1.618))\\nlinear_model = skllm.LinearRegression()\\nlinear_model.fit(df[\\\"log.cars\\\"].to_numpy().reshape(-1, 1), df[\\\"log.no2\\\"])\\nr2 = linear_model.score(df[\\\"log.cars\\\"].to_numpy().reshape(-1, 1), df[\\\"log.no2\\\"])\\ny_pred = linear_model.predict(df[\\\"log.cars\\\"].to_numpy().reshape(-1, 1))\\nax.plot(df[\\\"log.cars\\\"].to_numpy(), y_pred)\\ndf.plot.scatter(x=\\\"log.cars\\\", y=\\\"log.no2\\\", ax=ax)\\nplt.show()\\nprint(\\n    f\\\"The linear model is: log.no2 = {linear_model.coef_[0]:.1f}*log.cars + {linear_model.intercept_:.1f}\\\"\\n)\\nprint(f\\\"The model has an R^2 score of {r2:.2f}\\\")\";\n",
       "                var nbb_formatted_code = \"fig, ax = plt.subplots(1, 1, figsize=(10, 10 / 1.618))\\nlinear_model = skllm.LinearRegression()\\nlinear_model.fit(df[\\\"log.cars\\\"].to_numpy().reshape(-1, 1), df[\\\"log.no2\\\"])\\nr2 = linear_model.score(df[\\\"log.cars\\\"].to_numpy().reshape(-1, 1), df[\\\"log.no2\\\"])\\ny_pred = linear_model.predict(df[\\\"log.cars\\\"].to_numpy().reshape(-1, 1))\\nax.plot(df[\\\"log.cars\\\"].to_numpy(), y_pred)\\ndf.plot.scatter(x=\\\"log.cars\\\", y=\\\"log.no2\\\", ax=ax)\\nplt.show()\\nprint(\\n    f\\\"The linear model is: log.no2 = {linear_model.coef_[0]:.1f}*log.cars + {linear_model.intercept_:.1f}\\\"\\n)\\nprint(f\\\"The model has an R^2 score of {r2:.2f}\\\")\";\n",
       "                var nbb_cells = Jupyter.notebook.get_cells();\n",
       "                for (var i = 0; i < nbb_cells.length; ++i) {\n",
       "                    if (nbb_cells[i].input_prompt_number == nbb_cell_id) {\n",
       "                        if (nbb_cells[i].get_text() == nbb_unformatted_code) {\n",
       "                             nbb_cells[i].set_text(nbb_formatted_code);\n",
       "                        }\n",
       "                        break;\n",
       "                    }\n",
       "                }\n",
       "            }, 500);\n",
       "            "
      ],
      "text/plain": [
       "<IPython.core.display.Javascript object>"
      ]
     },
     "metadata": {},
     "output_type": "display_data"
    }
   ],
   "source": [
    "fig, ax = plt.subplots(1, 1, figsize=(10, 10 / 1.618))\n",
    "linear_model = skllm.LinearRegression()\n",
    "linear_model.fit(df[\"log.cars\"].to_numpy().reshape(-1, 1), df[\"log.no2\"])\n",
    "r2 = linear_model.score(df[\"log.cars\"].to_numpy().reshape(-1, 1), df[\"log.no2\"])\n",
    "y_pred = linear_model.predict(df[\"log.cars\"].to_numpy().reshape(-1, 1))\n",
    "ax.plot(df[\"log.cars\"].to_numpy(), y_pred)\n",
    "df.plot.scatter(x=\"log.cars\", y=\"log.no2\", ax=ax)\n",
    "plt.show()\n",
    "print(\n",
    "    f\"The linear model is: log.no2 = {linear_model.coef_[0]:.1f}*log.cars + {linear_model.intercept_:.1f}\"\n",
    ")\n",
    "print(f\"The model has an R^2 score of {r2:.2f}\")"
   ]
  },
  {
   "cell_type": "markdown",
   "metadata": {},
   "source": [
    "The R2 score is not very impressive even if the model looks pretty alright by eye. There is definetly a correlation between cars and NO2 though.\n",
    "The intercept of the model being >0 implies that there will always be a base level of NO2 even without traffic, which makes sense."
   ]
  },
  {
   "cell_type": "markdown",
   "metadata": {},
   "source": []
  }
 ],
 "metadata": {
  "kernelspec": {
   "display_name": "Python 3",
   "language": "python",
   "name": "python3"
  },
  "language_info": {
   "codemirror_mode": {
    "name": "ipython",
    "version": 3
   },
   "file_extension": ".py",
   "mimetype": "text/x-python",
   "name": "python",
   "nbconvert_exporter": "python",
   "pygments_lexer": "ipython3",
   "version": "3.7.5"
  }
 },
 "nbformat": 4,
 "nbformat_minor": 4
}
